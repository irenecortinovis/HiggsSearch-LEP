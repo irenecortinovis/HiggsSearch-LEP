{
 "cells": [
  {
   "cell_type": "code",
   "execution_count": 14,
   "metadata": {},
   "outputs": [],
   "source": [
    "import os, sys\n",
    "import pandas as pd\n",
    "import numpy as np\n",
    "import matplotlib.pylab as plt \n",
    "import matplotlib.pyplot as plt"
   ]
  },
  {
   "cell_type": "code",
   "execution_count": 15,
   "metadata": {},
   "outputs": [],
   "source": [
    "#ACOLLINEARITY FUNCTION\n",
    "def angleacoll(th1,th2,ph1,ph2):\n",
    "    v1=[np.sin(th1)*np.cos(ph1),np.sin(th1)*np.sin(ph1),np.cos(th1)]\n",
    "    v2=[np.sin(th2)*np.cos(ph2),np.sin(th2)*np.sin(ph2),np.cos(th2)]\n",
    "    dot = np.dot(v1,v2)\n",
    "    return (abs(np.pi-np.arccos(dot)))\n",
    "\n",
    "\n",
    "\n",
    "#function that finds number of events in dataframe\n",
    "#it identifies an events by pair event number and run number\n",
    "def n_events(df):\n",
    "    sumev = 0\n",
    "    for item in df.groupby(['ievt', 'irun']).size():\n",
    "        sumev = sumev + item\n",
    "    return sumev\n",
    "\n",
    "#find corresponding cross section given the channel\n",
    "def dfxsec(dfname, df_names):\n",
    "    index = df_names.index(dfname)\n",
    "    return xsections[index]\n",
    "\n",
    "#find scale factor by which each channel needs to be multiplied to match data\n",
    "def scalefactor(lumi, n_events, xsec,ratio):\n",
    "    return (xsec*lumi)/(ratio*n_events)\n",
    "\n",
    "\n",
    "def LogLR(expBkg, expSig, obs):\n",
    "    #avoid log of 0 using super small number #hack\n",
    "    result = obs*np.log(max(expSig+expBkg, 0.000001)) - expSig - obs*np.log(max(expBkg,0.000001))\n",
    "    return -2*result"
   ]
  },
  {
   "cell_type": "code",
   "execution_count": 16,
   "metadata": {},
   "outputs": [],
   "source": [
    "#initial definitions\n",
    "\n",
    "#comment these if you don't want qq\n",
    "backgrounds = ['eeqq','qq','wen','ww','zee','zz']\n",
    "backgrounds_cs = [15600,102,2.90,16.5,3.35,0.975] #pb\n",
    "\n",
    "#without qq\n",
    "#backgrounds = ['eeqq','wen','ww','zee','zz']\n",
    "#backgrounds_cs = [15600,2.90,16.5,3.35,0.975] #pb\n",
    "\n",
    "signals = ['higgs_85','higgs_90','higgs_95']\n",
    "signal_cs = [0.0940,0.0667,0.0333] #pb\n",
    "data = ['data']\n",
    "\n",
    "\n",
    "\n",
    "#concatenate all the channels\n",
    "channels = backgrounds + signals + data\n",
    "xsections = backgrounds_cs + signal_cs\n",
    "\n",
    "#list which takes into account whether the channel is a background (bkg), signal (sgn), or data (data)\n",
    "bkgsigdata = []\n",
    "\n",
    "#dataframes lists\n",
    "df_names = [] #need to work with names instead of just df because python cannot find a dataframe in a list of dataframes, so i just search by name\n",
    "df_list = []\n",
    "df_list_cut = []\n",
    "\n",
    "#factor *signal to make it more visible (accounted for in efficiencies)\n",
    "pumpsignal = 100    \n",
    "\n",
    "#integrate luminosity\n",
    "int_lumi = 176.773 #pb^-1"
   ]
  },
  {
   "cell_type": "code",
   "execution_count": 17,
   "metadata": {
    "scrolled": false
   },
   "outputs": [],
   "source": [
    "################################\n",
    "# creation of all df and lists #\n",
    "################################\n",
    "\n",
    "\n",
    "\n",
    "for channel in channels:\n",
    "    #fill the dataframes\n",
    "    filename = '../l3higgs189/higgs_' + channel + '.csv'\n",
    "    dfname = 'df_' + channel\n",
    "    vars()[dfname] = pd.read_csv(filename)\n",
    "       \n",
    "    #add acollinearity\n",
    "    angle = 180*np.pi/180\n",
    "    acollin = []\n",
    "    for index, row in (vars()[dfname]).iterrows():\n",
    "        #acollinearity\n",
    "        acollin.append(angleacoll(row['thj1'],row['thj2'],row['phj1'],row['phj2']))\n",
    "    (vars()[dfname])['acoll'] = acollin\n",
    "        \n",
    "    \n",
    "    \n",
    "    #fill the bkgsigdata list, categorizing bkg, sgn, data\n",
    "    if channel in backgrounds:\n",
    "        bkgsigdata.append('bkg')\n",
    "    elif channel in signals:\n",
    "        bkgsigdata.append('sgn')\n",
    "    elif channel in data:\n",
    "        bkgsigdata.append('data')\n",
    "        \n",
    "    #fill dataframes lists\n",
    "    df_names.append(dfname)\n",
    "    df_list.append(vars()[dfname])\n",
    "    "
   ]
  },
  {
   "cell_type": "code",
   "execution_count": 18,
   "metadata": {},
   "outputs": [
    {
     "name": "stdout",
     "output_type": "stream",
     "text": [
      "df_eeqq 2757658.8\n",
      "df_qq 18030.846\n",
      "df_wen 512.6417\n",
      "df_ww 2916.7545\n",
      "df_zee 592.18955\n",
      "df_zz 172.35367499999998\n",
      "df_higgs_85 16.616661999999998\n",
      "df_higgs_90 11.790759099999999\n",
      "df_higgs_95 5.886540900000001\n",
      "df_data 641\n",
      "\n",
      "total bkg:  2779883.5854249992\n",
      "\n",
      "ratio:  4336.791864937596\n"
     ]
    }
   ],
   "source": [
    "#find n of events\n",
    "sumbkg = 0\n",
    "ndata = 0\n",
    "\n",
    "for dfname in df_names:\n",
    "    index = df_names.index(dfname)\n",
    "    if bkgsigdata[index] == 'sgn':\n",
    "        scalef = scalefactor(int_lumi, n_events(df_list[index]), dfxsec(dfname, df_names), 1)\n",
    "        weights = scalef*np.ones_like(np.linspace(1,n_events(df_list[index]), n_events(df_list[index])))\n",
    "        nevents=((n_events(df_list[index]))*scalef)\n",
    "        print (dfname, nevents)\n",
    "    elif bkgsigdata[index] == 'bkg':\n",
    "        scalef = scalefactor(int_lumi, n_events(df_list[index]), dfxsec(dfname, df_names), 1)\n",
    "        weights = scalef*np.ones_like(np.linspace(1,n_events(df_list[index]), n_events(df_list[index])))\n",
    "        nevents=((n_events(df_list[index]))*scalef)\n",
    "        sumbkg += nevents\n",
    "        print (dfname, nevents)\n",
    "    elif bkgsigdata[index] == 'data':\n",
    "        ndata=n_events(df_list[index])\n",
    "        print (dfname, ndata)\n",
    "\n",
    "print('\\ntotal bkg: ', sumbkg)\n",
    "ratio = sumbkg/ndata\n",
    "print('\\nratio: ', ratio)"
   ]
  },
  {
   "cell_type": "code",
   "execution_count": 19,
   "metadata": {},
   "outputs": [],
   "source": [
    "def midpoints_bins(bins):\n",
    "    binwidth_bins = bins[1]-bins[0]\n",
    "    midpointlist = []\n",
    "    for item in range(0, len(bins)-1):\n",
    "        midpointlist.append(bins[0] + binwidth_bins * (0.5 + item))\n",
    "    return midpointlist\n",
    "\n",
    "def binwidth_bins(bins):\n",
    "    return bins[1]-bins[0]\n"
   ]
  },
  {
   "cell_type": "code",
   "execution_count": 20,
   "metadata": {},
   "outputs": [
    {
     "data": {
      "text/plain": [
       "<Figure size 432x288 with 0 Axes>"
      ]
     },
     "metadata": {},
     "output_type": "display_data"
    }
   ],
   "source": [
    "#######################\n",
    "# log likelihood ploz #\n",
    "#######################\n",
    "   \n",
    "df_list_cut = []\n",
    "\n",
    "for dfname in df_names:\n",
    "    index = df_names.index(dfname)\n",
    "    tmpdf = (df_list[index])[(df_list[index])['mmis'] > 70]\n",
    "    tmpdf = tmpdf[tmpdf['mmis'] < 105]\n",
    "    tmpdf = tmpdf[tmpdf['acthm'] < 0.65]\n",
    "    tmpdf = tmpdf[tmpdf['acop'] < 3.1]\n",
    "    tmpdf = tmpdf[tmpdf['btag1'] > 0.6]\n",
    "    tmpdf = tmpdf[tmpdf['btag2'] > 0.6]\n",
    "    df_list_cut.append(tmpdf)\n",
    "\n",
    "bins = np.linspace(70,100,31)\n",
    "\n",
    "signal85_mh = []\n",
    "signal90_mh = []\n",
    "signal95_mh = []\n",
    "backgr_mh = [0]*(len(bins)-1)\n",
    "data_mh = []\n",
    "\n",
    "pumpsignal = 1   \n",
    "nevents = [0]*len(df_list)\n",
    "\n",
    "for dfname in df_names:\n",
    "    index = df_names.index(dfname)\n",
    "    \n",
    "    #sum over backgrounds\n",
    "    if bkgsigdata[index] == 'bkg':\n",
    "        if(n_events(df_list_cut[index]) != 0):\n",
    "            #calculate scale factor (xs) \n",
    "            scalef = scalefactor(int_lumi, n_events(df_list[index]), dfxsec(dfname, df_names), ratio)\n",
    "            weights = scalef*np.ones_like(np.linspace(1,n_events(df_list_cut[index]), n_events(df_list_cut[index])))\n",
    "            bkg,bins_bkg,patches_bkg = plt.hist(((df_list_cut[index])['fmvis']), bins=bins, weights=weights, color='green', ec=\"black\", histtype=\"stepfilled\", label=dfname, alpha=0.4)\n",
    "            backgr_mh = np.add(backgr_mh,bkg)\n",
    "\n",
    "    #data\n",
    "    if bkgsigdata[index] == 'data':\n",
    "        data_histo,bins_data,patches_data = plt.hist(((df_list_cut[index])['fmvis']), bins=bins, color='green', ec=\"black\", histtype=\"stepfilled\", label=dfname, alpha=0.4)\n",
    "\n",
    "#clear all plots\n",
    "plt.clf()\n"
   ]
  },
  {
   "cell_type": "code",
   "execution_count": 21,
   "metadata": {},
   "outputs": [
    {
     "data": {
      "image/png": "[encoded data removed]",
      "text/plain": [
       "<Figure size 432x288 with 1 Axes>"
      ]
     },
     "metadata": {
      "needs_background": "light"
     },
     "output_type": "display_data"
    }
   ],
   "source": [
    "## CONSIDER FOR NOW 90 GEV MH HYPOTHESIS\n",
    "\n",
    "for dfname in df_names:\n",
    "    index = df_names.index(dfname)\n",
    "    #signal with mh=90 GeV\n",
    "    if dfname == \"df_higgs_90\":\n",
    "        scalef = pumpsignal*scalefactor(int_lumi, n_events(df_list[index]), dfxsec(dfname, df_names), ratio)\n",
    "        weights = scalef*np.ones_like(np.linspace(1,n_events(df_list_cut[index]), n_events(df_list_cut[index])))\n",
    "        sgn_90,bins_sgn_90,patches_sgn_90 = plt.hist(((df_list_cut[index])['fmvis']), bins=bins, weights=weights, color='green', ec=\"black\", histtype=\"stepfilled\", label=dfname, alpha=0.4)\n",
    "\n",
    "plt.clf()\n",
    "\n",
    "\n",
    "#plot data\n",
    "plt.errorbar(midpoints_bins(bins), data_histo, yerr=np.sqrt(data_histo),fmt='o', label='data')\n",
    "#plot background\n",
    "plt.bar(midpoints_bins(bins), backgr_mh, width=binwidth_bins(bins),color='green', ec=\"black\", label='background', alpha=0.4)\n",
    "#plot signal\n",
    "plt.bar(midpoints_bins(bins), sgn_90, width=binwidth_bins(bins),color='red', ec=\"black\", label='signal (mh=90)', alpha=0.4)\n",
    "plt.legend(loc=\"best\")\n",
    "plt.show()\n"
   ]
  },
  {
   "cell_type": "code",
   "execution_count": 22,
   "metadata": {},
   "outputs": [],
   "source": [
    "#LOG LIKELIHOOD RATIO \n",
    "#-2nlQ = 2*(sum_i s_i - n_i*ln(1+s_i/b_i))\n",
    "\n",
    "def LLR(expBkg, expSig, obs):\n",
    "    result = 0\n",
    "    for index in range(0,len(expBkg)):\n",
    "        if expBkg[index] != 0: #ASK\n",
    "        #if expBkg[index] != 0 and expSig[index]/expBkg[index]>0.05: #ASK\n",
    "            result += 2*(expSig[index] - obs[index]*np.log(max((1 + expSig[index]/expBkg[index]), 0.000001)))\n",
    "    return result\n",
    "\n"
   ]
  },
  {
   "cell_type": "code",
   "execution_count": 23,
   "metadata": {},
   "outputs": [
    {
     "name": "stdout",
     "output_type": "stream",
     "text": [
      "X(Data)= -0.284899588607447\n",
      "X(Background)= 6.25647893961848e-05\n",
      "X(Signal 90 GeV +Background)= -6.963157101283672e-05\n"
     ]
    }
   ],
   "source": [
    "#now the different X values\n",
    "print (\"X(Data)=\",LLR(backgr_mh,sgn_90,data_histo))\n",
    "print (\"X(Background)=\",LLR(backgr_mh,sgn_90,backgr_mh))\n",
    "print (\"X(Signal 90 GeV +Background)=\",LLR(backgr_mh,sgn_90,np.add(backgr_mh,sgn_90)))\n"
   ]
  },
  {
   "cell_type": "code",
   "execution_count": 24,
   "metadata": {},
   "outputs": [
    {
     "name": "stdout",
     "output_type": "stream",
     "text": [
      "B-only median estimator: 0.000\n",
      "S+B median estimator: 0.000\n"
     ]
    }
   ],
   "source": [
    "def getTrials(expBkg,expSig, mean):\n",
    "    return LLR(expBkg,expSig, np.random.poisson(mean) )\n",
    "\n",
    "#By using the function above two sets of events can be created for background\n",
    "#only and signal+background:\n",
    "\n",
    "nTrials = 50000\n",
    "bkgSample = []\n",
    "sigPlusBkgSample = []\n",
    "for i in range(0,nTrials):\n",
    "    bkgSample.append(getTrials(backgr_mh,sgn_90,backgr_mh))\n",
    "    sigPlusBkgSample.append(getTrials(backgr_mh,sgn_90,np.add(backgr_mh,sgn_90)))\n",
    "\n",
    "bkg_median = np.median(bkgSample)\n",
    "spb_median = np.median(sigPlusBkgSample)\n",
    "\n",
    "print ('B-only median estimator: %.3f'%bkg_median)\n",
    "print ('S+B median estimator: %.3f'%spb_median)"
   ]
  },
  {
   "cell_type": "code",
   "execution_count": 25,
   "metadata": {},
   "outputs": [
    {
     "data": {
      "image/png": "[encoded data removed]",
      "text/plain": [
       "<Figure size 432x288 with 1 Axes>"
      ]
     },
     "metadata": {
      "needs_background": "light"
     },
     "output_type": "display_data"
    }
   ],
   "source": [
    "plt.axvline(x=LLR(backgr_mh,sgn_90,data_histo), color='black',label='data')\n",
    "bkg,bins,patches = plt.hist(bkgSample,color='b', bins=30, label='B-only',alpha=0.5)\n",
    "sig,bins,patches = plt.hist(sigPlusBkgSample,color='r',bins=30 ,label='S+B',alpha=0.5)\n",
    "plt.xlabel('negative log likelihood')\n",
    "plt.ylabel('A.U.')\n",
    "plt.legend()\n",
    "plt.show()"
   ]
  },
  {
   "cell_type": "code",
   "execution_count": 26,
   "metadata": {},
   "outputs": [
    {
     "name": "stdout",
     "output_type": "stream",
     "text": [
      "CLb = 0.9993\n",
      "CLsb = 0.9990\n",
      "CLs = 0.9998\n",
      "(1-CLs) = 0.0002\n"
     ]
    }
   ],
   "source": [
    "fracAbove=lambda trials, ref: (trials>ref).sum()/float(len(trials))\n",
    "\n",
    "#calculate negative log likelihood ratio for data\n",
    "dataRef=LLR(backgr_mh,sgn_90,data_histo)\n",
    "\n",
    "#compute the CL values\n",
    "CLb=fracAbove(bkgSample,dataRef)\n",
    "CLsb=fracAbove(sigPlusBkgSample,dataRef)\n",
    "CLs=CLsb/CLb\n",
    "\n",
    "print (\"CLb = %.4f\"%CLb)\n",
    "print (\"CLsb = %.4f\"%CLsb)\n",
    "print (\"CLs = %.4f\"%CLs)\n",
    "print (\"(1-CLs) = %.4f\"%(1-CLs))"
   ]
  },
  {
   "cell_type": "code",
   "execution_count": 27,
   "metadata": {},
   "outputs": [
    {
     "name": "stdout",
     "output_type": "stream",
     "text": [
      "CLsb = 0.0000\n",
      "CLs = 0.0000\n",
      "(1-CLs) = 1.0000\n"
     ]
    }
   ],
   "source": [
    "#Now caclulate the same quantitites for the expected background\n",
    "CLsb=fracAbove(sigPlusBkgSample,bkg_median)\n",
    "CLs=CLsb/0.5\n",
    "\n",
    "print (\"CLsb = %.4f\"%CLsb)\n",
    "print (\"CLs = %.4f\"%CLs)\n",
    "print (\"(1-CLs) = %.4f\"%(1-CLs))"
   ]
  },
  {
   "cell_type": "code",
   "execution_count": null,
   "metadata": {},
   "outputs": [],
   "source": []
  },
  {
   "cell_type": "code",
   "execution_count": null,
   "metadata": {},
   "outputs": [],
   "source": []
  }
 ],
 "metadata": {
  "kernelspec": {
   "display_name": "Python 3",
   "language": "python",
   "name": "python3"
  },
  "language_info": {
   "codemirror_mode": {
    "name": "ipython",
    "version": 3
   },
   "file_extension": ".py",
   "mimetype": "text/x-python",
   "name": "python",
   "nbconvert_exporter": "python",
   "pygments_lexer": "ipython3",
   "version": "3.7.1"
  }
 },
 "nbformat": 4,
 "nbformat_minor": 2
}
