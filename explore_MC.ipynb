{
 "cells": [
  {
   "cell_type": "code",
   "execution_count": 35,
   "metadata": {},
   "outputs": [],
   "source": [
    "import os, sys\n",
    "import pandas as pd\n",
    "import uproot\n",
    "import matplotlib.pyplot as plt"
   ]
  },
  {
   "cell_type": "code",
   "execution_count": 36,
   "metadata": {},
   "outputs": [
    {
     "name": "stdout",
     "output_type": "stream",
     "text": [
      "Saving plots in ./plots/higgs_data/\n",
      "Opening ./l3higgs189/higgs_data.csv\n"
     ]
    }
   ],
   "source": [
    "#filename = \"./l3higgs/l3higgs189/higgs_data.root\"\n",
    "filename = \"./l3higgs189/higgs_data.csv\"\n",
    "plot_dir = \"../ntuplesPixel/plots/\" + (filename.split(\"/\")[-1]).split(\".\")[-2] + \"/\"\n",
    "plot_dir = \"./plots/\" + (filename.split(\"/\")[-1]).split(\".\")[-2] + \"/\"\n",
    "print(\"Saving plots in \" + plot_dir)\n",
    "\n",
    "if not os.path.exists(plot_dir):  # Creating plot directories\n",
    "    os.makedirs(plot_dir)\n",
    "if os.path.exists(filename):  # Creating plot directories\n",
    "    print(\"Opening \" + filename)\n",
    "else:\n",
    "    sys.exit(\"File doesn't exists.\")\n",
    "#file = uproot.open(filename)\n",
    "#tree = file[b'a/tree;1']\n",
    "df = pd.read_csv(filename)"
   ]
  },
  {
   "cell_type": "code",
   "execution_count": 37,
   "metadata": {},
   "outputs": [
    {
     "data": {
      "text/html": [
       "<div>\n",
       "<style scoped>\n",
       "    .dataframe tbody tr th:only-of-type {\n",
       "        vertical-align: middle;\n",
       "    }\n",
       "\n",
       "    .dataframe tbody tr th {\n",
       "        vertical-align: top;\n",
       "    }\n",
       "\n",
       "    .dataframe thead th {\n",
       "        text-align: right;\n",
       "    }\n",
       "</style>\n",
       "<table border=\"1\" class=\"dataframe\">\n",
       "  <thead>\n",
       "    <tr style=\"text-align: right;\">\n",
       "      <th></th>\n",
       "      <th>irun</th>\n",
       "      <th>ievt</th>\n",
       "      <th>ifi</th>\n",
       "      <th>idp1</th>\n",
       "      <th>idp2</th>\n",
       "      <th>encm</th>\n",
       "      <th>btag1</th>\n",
       "      <th>btag2</th>\n",
       "      <th>ucsdbt0</th>\n",
       "      <th>mvis</th>\n",
       "      <th>...</th>\n",
       "      <th>pho_the</th>\n",
       "      <th>pho_phi</th>\n",
       "      <th>ele_num</th>\n",
       "      <th>ele_ene</th>\n",
       "      <th>ele_the</th>\n",
       "      <th>ele_phi</th>\n",
       "      <th>muon_num</th>\n",
       "      <th>muon_ene</th>\n",
       "      <th>muon_the</th>\n",
       "      <th>muon_phi</th>\n",
       "    </tr>\n",
       "  </thead>\n",
       "  <tbody>\n",
       "    <tr>\n",
       "      <th>0</th>\n",
       "      <td>693604</td>\n",
       "      <td>1766</td>\n",
       "      <td>0</td>\n",
       "      <td>0</td>\n",
       "      <td>0</td>\n",
       "      <td>188.932</td>\n",
       "      <td>0.064294</td>\n",
       "      <td>0.166782</td>\n",
       "      <td>0.567449</td>\n",
       "      <td>96.2786</td>\n",
       "      <td>...</td>\n",
       "      <td>1.35821</td>\n",
       "      <td>0.590239</td>\n",
       "      <td>0</td>\n",
       "      <td>-1.0</td>\n",
       "      <td>0.0</td>\n",
       "      <td>0.0</td>\n",
       "      <td>0</td>\n",
       "      <td>-1.0</td>\n",
       "      <td>0.0</td>\n",
       "      <td>0.0</td>\n",
       "    </tr>\n",
       "    <tr>\n",
       "      <th>1</th>\n",
       "      <td>697406</td>\n",
       "      <td>1829</td>\n",
       "      <td>0</td>\n",
       "      <td>0</td>\n",
       "      <td>0</td>\n",
       "      <td>188.648</td>\n",
       "      <td>0.013903</td>\n",
       "      <td>0.163253</td>\n",
       "      <td>0.641243</td>\n",
       "      <td>118.8910</td>\n",
       "      <td>...</td>\n",
       "      <td>0.00000</td>\n",
       "      <td>0.000000</td>\n",
       "      <td>0</td>\n",
       "      <td>-1.0</td>\n",
       "      <td>0.0</td>\n",
       "      <td>0.0</td>\n",
       "      <td>0</td>\n",
       "      <td>-1.0</td>\n",
       "      <td>0.0</td>\n",
       "      <td>0.0</td>\n",
       "    </tr>\n",
       "    <tr>\n",
       "      <th>2</th>\n",
       "      <td>699103</td>\n",
       "      <td>1738</td>\n",
       "      <td>0</td>\n",
       "      <td>0</td>\n",
       "      <td>0</td>\n",
       "      <td>188.684</td>\n",
       "      <td>0.000000</td>\n",
       "      <td>0.000000</td>\n",
       "      <td>0.000000</td>\n",
       "      <td>129.0220</td>\n",
       "      <td>...</td>\n",
       "      <td>1.05538</td>\n",
       "      <td>2.799260</td>\n",
       "      <td>0</td>\n",
       "      <td>-1.0</td>\n",
       "      <td>0.0</td>\n",
       "      <td>0.0</td>\n",
       "      <td>0</td>\n",
       "      <td>-1.0</td>\n",
       "      <td>0.0</td>\n",
       "      <td>0.0</td>\n",
       "    </tr>\n",
       "    <tr>\n",
       "      <th>3</th>\n",
       "      <td>702901</td>\n",
       "      <td>1850</td>\n",
       "      <td>0</td>\n",
       "      <td>0</td>\n",
       "      <td>0</td>\n",
       "      <td>188.578</td>\n",
       "      <td>0.080360</td>\n",
       "      <td>0.026761</td>\n",
       "      <td>0.162243</td>\n",
       "      <td>122.5330</td>\n",
       "      <td>...</td>\n",
       "      <td>0.00000</td>\n",
       "      <td>0.000000</td>\n",
       "      <td>0</td>\n",
       "      <td>-1.0</td>\n",
       "      <td>0.0</td>\n",
       "      <td>0.0</td>\n",
       "      <td>0</td>\n",
       "      <td>-1.0</td>\n",
       "      <td>0.0</td>\n",
       "      <td>0.0</td>\n",
       "    </tr>\n",
       "    <tr>\n",
       "      <th>4</th>\n",
       "      <td>704507</td>\n",
       "      <td>2524</td>\n",
       "      <td>0</td>\n",
       "      <td>0</td>\n",
       "      <td>0</td>\n",
       "      <td>188.660</td>\n",
       "      <td>0.076667</td>\n",
       "      <td>0.833206</td>\n",
       "      <td>1.496450</td>\n",
       "      <td>132.0300</td>\n",
       "      <td>...</td>\n",
       "      <td>2.05666</td>\n",
       "      <td>4.519970</td>\n",
       "      <td>0</td>\n",
       "      <td>-1.0</td>\n",
       "      <td>0.0</td>\n",
       "      <td>0.0</td>\n",
       "      <td>0</td>\n",
       "      <td>-1.0</td>\n",
       "      <td>0.0</td>\n",
       "      <td>0.0</td>\n",
       "    </tr>\n",
       "  </tbody>\n",
       "</table>\n",
       "<p>5 rows × 41 columns</p>\n",
       "</div>"
      ],
      "text/plain": [
       "     irun  ievt  ifi  idp1  idp2     encm     btag1     btag2   ucsdbt0  \\\n",
       "0  693604  1766    0     0     0  188.932  0.064294  0.166782  0.567449   \n",
       "1  697406  1829    0     0     0  188.648  0.013903  0.163253  0.641243   \n",
       "2  699103  1738    0     0     0  188.684  0.000000  0.000000  0.000000   \n",
       "3  702901  1850    0     0     0  188.578  0.080360  0.026761  0.162243   \n",
       "4  704507  2524    0     0     0  188.660  0.076667  0.833206  1.496450   \n",
       "\n",
       "       mvis    ...     pho_the   pho_phi  ele_num  ele_ene  ele_the  ele_phi  \\\n",
       "0   96.2786    ...     1.35821  0.590239        0     -1.0      0.0      0.0   \n",
       "1  118.8910    ...     0.00000  0.000000        0     -1.0      0.0      0.0   \n",
       "2  129.0220    ...     1.05538  2.799260        0     -1.0      0.0      0.0   \n",
       "3  122.5330    ...     0.00000  0.000000        0     -1.0      0.0      0.0   \n",
       "4  132.0300    ...     2.05666  4.519970        0     -1.0      0.0      0.0   \n",
       "\n",
       "   muon_num  muon_ene  muon_the  muon_phi  \n",
       "0         0      -1.0       0.0       0.0  \n",
       "1         0      -1.0       0.0       0.0  \n",
       "2         0      -1.0       0.0       0.0  \n",
       "3         0      -1.0       0.0       0.0  \n",
       "4         0      -1.0       0.0       0.0  \n",
       "\n",
       "[5 rows x 41 columns]"
      ]
     },
     "execution_count": 37,
     "metadata": {},
     "output_type": "execute_result"
    }
   ],
   "source": [
    "df.head()"
   ]
  },
  {
   "cell_type": "code",
   "execution_count": 46,
   "metadata": {},
   "outputs": [
    {
     "name": "stdout",
     "output_type": "stream",
     "text": [
      "#entries = 641\n",
      "#branches = 41\n",
      "Branch\t\tType\n"
     ]
    },
    {
     "data": {
      "text/plain": [
       "irun          int64\n",
       "ievt          int64\n",
       "ifi           int64\n",
       "idp1          int64\n",
       "idp2          int64\n",
       "encm        float64\n",
       "btag1       float64\n",
       "btag2       float64\n",
       "ucsdbt0     float64\n",
       "mvis        float64\n",
       "mvisf       float64\n",
       "mvissc      float64\n",
       "fmvis       float64\n",
       "fmmis       float64\n",
       "fth1        float64\n",
       "mmis        float64\n",
       "acthm       float64\n",
       "maxcthj     float64\n",
       "acop        float64\n",
       "maxxov      float64\n",
       "ghmass        int64\n",
       "enj1        float64\n",
       "thj1        float64\n",
       "phj1        float64\n",
       "xmj1        float64\n",
       "enj2        float64\n",
       "thj2        float64\n",
       "phj2        float64\n",
       "xmj2        float64\n",
       "pho_num       int64\n",
       "pho_ene     float64\n",
       "pho_the     float64\n",
       "pho_phi     float64\n",
       "ele_num       int64\n",
       "ele_ene     float64\n",
       "ele_the     float64\n",
       "ele_phi     float64\n",
       "muon_num      int64\n",
       "muon_ene    float64\n",
       "muon_the    float64\n",
       "muon_phi    float64\n",
       "dtype: object"
      ]
     },
     "execution_count": 46,
     "metadata": {},
     "output_type": "execute_result"
    }
   ],
   "source": [
    "print(\"#entries = %d\" % df.shape[0])\n",
    "print(\"#branches = %d\" % df.shape[1])\n",
    "print(\"Branch\\t\\tType\")\n",
    "#for branch in df.keys():\n",
    "#    print(branch)\n",
    "df.dtypes"
   ]
  },
  {
   "cell_type": "code",
   "execution_count": 41,
   "metadata": {},
   "outputs": [
    {
     "data": {
      "image/png": "[encoded data removed]",
      "text/plain": [
       "<Figure size 432x288 with 1 Axes>"
      ]
     },
     "metadata": {
      "needs_background": "light"
     },
     "output_type": "display_data"
    },
    {
     "data": {
      "image/png": "[encoded data removed]",
      "text/plain": [
       "<Figure size 432x288 with 1 Axes>"
      ]
     },
     "metadata": {
      "needs_background": "light"
     },
     "output_type": "display_data"
    },
    {
     "data": {
      "image/png": "[encoded data removed]",
      "text/plain": [
       "<Figure size 432x288 with 1 Axes>"
      ]
     },
     "metadata": {
      "needs_background": "light"
     },
     "output_type": "display_data"
    }
   ],
   "source": [
    "varlist = ['pho_ene', 'pho_the', 'pho_phi']\n",
    "colors = ['yellow', 'red', 'blue']\n",
    "bins = [75, 20, 10]\n",
    "df_pho = df.query('pho_ene > 0.') # Selecting positive energies\n",
    "for varname in varlist:\n",
    "    index = varlist.index(varname)\n",
    "    plt.hist(df_pho[varname], bins=bins[index], color=colors[index], ec=\"black\", histtype=\"stepfilled\")\n",
    "    plt.title(varname)\n",
    "    plt.show()"
   ]
  },
  {
   "cell_type": "code",
   "execution_count": 42,
   "metadata": {},
   "outputs": [
    {
     "data": {
      "image/png": "[encoded data removed]",
      "text/plain": [
       "<Figure size 432x288 with 1 Axes>"
      ]
     },
     "metadata": {
      "needs_background": "light"
     },
     "output_type": "display_data"
    },
    {
     "data": {
      "image/png": "[encoded data removed]",
      "text/plain": [
       "<Figure size 432x288 with 1 Axes>"
      ]
     },
     "metadata": {
      "needs_background": "light"
     },
     "output_type": "display_data"
    },
    {
     "data": {
      "image/png": "[encoded data removed]",
      "text/plain": [
       "<Figure size 432x288 with 1 Axes>"
      ]
     },
     "metadata": {
      "needs_background": "light"
     },
     "output_type": "display_data"
    }
   ],
   "source": [
    "varlist = ['ele_ene', 'ele_the', 'ele_phi']\n",
    "df_ele = df.query('ele_ene > 0.')\n",
    "for varname in varlist:\n",
    "    index = varlist.index(varname)\n",
    "    plt.hist(df_ele[varname], bins=bins[index], color=colors[index], ec=\"black\", histtype=\"stepfilled\")\n",
    "    plt.title(varname)\n",
    "    plt.show()"
   ]
  },
  {
   "cell_type": "code",
   "execution_count": 44,
   "metadata": {},
   "outputs": [
    {
     "data": {
      "image/png": "[encoded data removed]",
      "text/plain": [
       "<Figure size 432x288 with 1 Axes>"
      ]
     },
     "metadata": {
      "needs_background": "light"
     },
     "output_type": "display_data"
    },
    {
     "data": {
      "image/png": "[encoded data removed]",
      "text/plain": [
       "<Figure size 432x288 with 1 Axes>"
      ]
     },
     "metadata": {
      "needs_background": "light"
     },
     "output_type": "display_data"
    },
    {
     "data": {
      "image/png": "[encoded data removed]",
      "text/plain": [
       "<Figure size 432x288 with 1 Axes>"
      ]
     },
     "metadata": {
      "needs_background": "light"
     },
     "output_type": "display_data"
    }
   ],
   "source": [
    "varlist = ['muon_ene', 'muon_the', 'muon_phi']\n",
    "bins = [20, 10, 10]\n",
    "df_muon = df.query('muon_ene > 0.')\n",
    "for varname in varlist:\n",
    "    index = varlist.index(varname)\n",
    "    plt.hist(df_muon[varname], bins=bins[index], color=colors[index], ec=\"black\", histtype=\"stepfilled\")\n",
    "    plt.title(varname)\n",
    "    plt.show()"
   ]
  },
  {
   "cell_type": "code",
   "execution_count": null,
   "metadata": {},
   "outputs": [],
   "source": []
  }
 ],
 "metadata": {
  "kernelspec": {
   "display_name": "Python 3",
   "language": "python",
   "name": "python3"
  },
  "language_info": {
   "codemirror_mode": {
    "name": "ipython",
    "version": 3
   },
   "file_extension": ".py",
   "mimetype": "text/x-python",
   "name": "python",
   "nbconvert_exporter": "python",
   "pygments_lexer": "ipython3",
   "version": "3.6.7"
  }
 },
 "nbformat": 4,
 "nbformat_minor": 2
}
