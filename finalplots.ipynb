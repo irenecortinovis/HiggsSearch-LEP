{
 "cells": [
  {
   "cell_type": "code",
   "execution_count": 35,
   "metadata": {},
   "outputs": [],
   "source": [
    "import os, sys\n",
    "import numpy as np\n",
    "import matplotlib.pylab as plt \n",
    "import matplotlib.pyplot as plt"
   ]
  },
  {
   "cell_type": "code",
   "execution_count": 36,
   "metadata": {},
   "outputs": [
    {
     "data": {
      "text/plain": [
       "<function TextIOWrapper.close()>"
      ]
     },
     "execution_count": 36,
     "metadata": {},
     "output_type": "execute_result"
    }
   ],
   "source": [
    "v85 = []; v90 = []; v95 = []\n",
    "\n",
    "with open('CLvalues85.txt') as f85:\n",
    "    for line in f85:\n",
    "        value = line.split('=')[-1].strip()\n",
    "        v85.append(float(value))\n",
    "f85.close\n",
    "\n",
    "with open('CLvalues90.txt') as f90:\n",
    "    for line in f90:\n",
    "        value = line.split('=')[-1].strip()\n",
    "        v90.append(float(value))\n",
    "f90.close\n",
    "\n",
    "with open('CLvalues95.txt') as f95:\n",
    "    for line in f95:\n",
    "        value = line.split('=')[-1].strip()\n",
    "        v95.append(float(value))\n",
    "f95.close"
   ]
  },
  {
   "cell_type": "code",
   "execution_count": 37,
   "metadata": {},
   "outputs": [],
   "source": [
    "def values859095(v85,v90,v95,index):\n",
    "    return([v85[index], v90[index], v95[index]])\n",
    "\n",
    "def oneminus_values859095(v85,v90,v95,index):\n",
    "    return([1-v85[index], 1-v90[index], 1-v95[index]])\n",
    "\n"
   ]
  },
  {
   "cell_type": "code",
   "execution_count": 38,
   "metadata": {},
   "outputs": [],
   "source": [
    "mh = [85,90,95]\n",
    "#values taken from CL_85,90,95 outputs\n",
    "oneminusCLb_background = oneminus_values859095(v85,v90,v95,16) #0.5 by definition\n",
    "oneminusCLb_data =  oneminus_values859095(v85,v90,v95,0)\n",
    "CLs_data =  values859095(v85,v90,v95,18)\n",
    "CLs_background =  values859095(v85,v90,v95,2)\n",
    "\n",
    "oneminusCLb_1sigma_low =  oneminus_values859095(v85,v90,v95,4)\n",
    "oneminusCLb_1sigma_high =  oneminus_values859095(v85,v90,v95,5)\n",
    "oneminusCLb_2sigma_low =  oneminus_values859095(v85,v90,v95,6)\n",
    "oneminusCLb_2sigma_high =  oneminus_values859095(v85,v90,v95,7)\n",
    "CLs_1sigma_low= values859095(v85,v90,v95,12)\n",
    "CLs_1sigma_high= values859095(v85,v90,v95,13)\n",
    "CLs_2sigma_low= values859095(v85,v90,v95,14)\n",
    "CLs_2sigma_high=values859095(v85,v90,v95,15)"
   ]
  },
  {
   "cell_type": "code",
   "execution_count": 39,
   "metadata": {
    "scrolled": true
   },
   "outputs": [
    {
     "data": {
      "image/png": "[encoded data removed]",
      "text/plain": [
       "<Figure size 432x288 with 1 Axes>"
      ]
     },
     "metadata": {
      "needs_background": "light"
     },
     "output_type": "display_data"
    }
   ],
   "source": [
    "# plot (1-CLb) vs mH\n",
    "plt.fill_between(mh,oneminusCLb_2sigma_low,oneminusCLb_2sigma_high,facecolor='yellow',label='$\\pm$2$\\sigma$')\n",
    "plt.fill_between(mh,oneminusCLb_1sigma_low,oneminusCLb_1sigma_high,facecolor='lime',label='$\\pm$1$\\sigma$')\n",
    "plt.plot(mh,oneminusCLb_background,linestyle='dashed', label='background',color='black')\n",
    "plt.scatter(mh,oneminusCLb_data, label='data',color='black')\n",
    "plt.yscale('log')\n",
    "plt.ylabel(\"1-CLb\")\n",
    "plt.xlabel(\"mH (GeV)\")\n",
    "plt.legend()\n",
    "plt.show()"
   ]
  },
  {
   "cell_type": "code",
   "execution_count": 40,
   "metadata": {},
   "outputs": [
    {
     "data": {
      "image/png": "[encoded data removed]",
      "text/plain": [
       "<Figure size 432x288 with 1 Axes>"
      ]
     },
     "metadata": {
      "needs_background": "light"
     },
     "output_type": "display_data"
    }
   ],
   "source": [
    "# plot (CLs) vs mH\n",
    "plt.fill_between(mh,CLs_2sigma_low,CLs_2sigma_high,facecolor='yellow',label='$\\pm$2$\\sigma$')\n",
    "plt.fill_between(mh,CLs_1sigma_low,CLs_1sigma_high,facecolor='lime',label='$\\pm$1$\\sigma$')\n",
    "plt.plot(mh,CLs_background,linestyle='dashed', label='background',color='black')\n",
    "plt.scatter(mh,CLs_data, label='data',color='black')\n",
    "plt.yscale('log')\n",
    "plt.axhline(0.05,color='black')\n",
    "plt.legend()\n",
    "plt.ylabel(\"CLs\")\n",
    "plt.xlabel(\"mH (GeV)\")\n",
    "plt.show()"
   ]
  },
  {
   "cell_type": "code",
   "execution_count": null,
   "metadata": {},
   "outputs": [],
   "source": []
  }
 ],
 "metadata": {
  "kernelspec": {
   "display_name": "Python 3",
   "language": "python",
   "name": "python3"
  },
  "language_info": {
   "codemirror_mode": {
    "name": "ipython",
    "version": 3
   },
   "file_extension": ".py",
   "mimetype": "text/x-python",
   "name": "python",
   "nbconvert_exporter": "python",
   "pygments_lexer": "ipython3",
   "version": "3.7.1"
  }
 },
 "nbformat": 4,
 "nbformat_minor": 2
}
