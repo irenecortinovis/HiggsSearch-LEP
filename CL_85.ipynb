{
 "cells": [
  {
   "cell_type": "code",
   "execution_count": 7,
   "metadata": {},
   "outputs": [],
   "source": [
    "import os, sys\n",
    "import pandas as pd\n",
    "import numpy as np\n",
    "import matplotlib.pylab as plt \n",
    "import matplotlib.pyplot as plt"
   ]
  },
  {
   "cell_type": "code",
   "execution_count": 8,
   "metadata": {},
   "outputs": [],
   "source": [
    "#ACOLLINEARITY FUNCTION\n",
    "def angleacoll(th1,th2,ph1,ph2):\n",
    "    v1=[np.sin(th1)*np.cos(ph1),np.sin(th1)*np.sin(ph1),np.cos(th1)]\n",
    "    v2=[np.sin(th2)*np.cos(ph2),np.sin(th2)*np.sin(ph2),np.cos(th2)]\n",
    "    dot = np.dot(v1,v2)\n",
    "    return (abs(np.pi-np.arccos(dot)))\n",
    "\n",
    "#function that finds number of events in dataframe\n",
    "#it identifies an events by pair event number and run number\n",
    "def n_events_real(df):\n",
    "    sumev = 0\n",
    "    for item in df.groupby(['ievt', 'irun']).size():\n",
    "        sumev = sumev + item\n",
    "    return sumev\n",
    "\n",
    "def n_events_mc(dfname, df_names, nevents_nom):\n",
    "    index = df_names.index(dfname)\n",
    "    return nevents_nom[index]\n",
    "\n",
    "#find corresponding cross section given the channel\n",
    "def dfxsec(dfname, df_names):\n",
    "    index = df_names.index(dfname)\n",
    "    return xsections[index]\n",
    "\n",
    "#find scale factor by which each channel needs to be multiplied to match data\n",
    "def scalefactor(lumi, n_events, xsec):\n",
    "    return (xsec*lumi)/(n_events)\n",
    "\n",
    "\n",
    "def LogLR(expBkg, expSig, obs):\n",
    "    #avoid log of 0 using super small number #hack\n",
    "    result = obs*np.log(max(expSig+expBkg, 0.000001)) - expSig - obs*np.log(max(expBkg,0.000001))\n",
    "    return -2*result"
   ]
  },
  {
   "cell_type": "code",
   "execution_count": 9,
   "metadata": {},
   "outputs": [],
   "source": [
    "#initial definitions\n",
    "\n",
    "backgrounds = ['eeqq','qq','wen','ww','zee','zz']\n",
    "backgrounds_cs = [15600,102,2.90,16.5,3.35,0.975] #pb\n",
    "\n",
    "signals = ['higgs_85','higgs_90','higgs_95']\n",
    "signal_cs = [0.0940,0.0667,0.0333] #pb\n",
    "data = ['data']\n",
    "\n",
    "\n",
    "\n",
    "#concatenate all the channels\n",
    "channels = backgrounds + signals + data\n",
    "xsections = backgrounds_cs + signal_cs\n",
    "nevents_nom = [5940000,200000,81786,294500,29500,196000,3972,3973,3971]\n",
    "\n",
    "#list which takes into account whether the channel is a background (bkg), signal (sgn), or data (data)\n",
    "bkgsigdata = []\n",
    "\n",
    "#dataframes lists\n",
    "df_names = [] #need to work with names instead of just df because python cannot find a dataframe in a list of dataframes, so i just search by name\n",
    "df_list = []\n",
    "df_list_cut = []\n",
    "\n",
    "#factor *signal to make it more visible (accounted for in efficiencies)\n",
    "pumpsignal = 100    \n",
    "\n",
    "#integrate luminosity\n",
    "int_lumi = 176.773 #pb^-1"
   ]
  },
  {
   "cell_type": "code",
   "execution_count": 11,
   "metadata": {
    "scrolled": false
   },
   "outputs": [],
   "source": [
    "################################\n",
    "# creation of all df and lists #\n",
    "################################\n",
    "\n",
    "\n",
    "\n",
    "for channel in channels:\n",
    "    #fill the dataframes\n",
    "    filename = '../l3higgs189/higgs_' + channel + '.csv'\n",
    "    dfname = 'df_' + channel\n",
    "    vars()[dfname] = pd.read_csv(filename)\n",
    "       \n",
    "    #add recoiling mass against jets\n",
    "    angle = 180*np.pi/180\n",
    "    recmass = []\n",
    "    acollin = []\n",
    "    for index, row in (vars()[dfname]).iterrows():\n",
    "        #acollinearity\n",
    "        acollin.append(angleacoll(row['thj1'],row['thj2'],row['phj1'],row['phj2']))\n",
    "            \n",
    "    #(vars()[dfname])['rec_mass'] = recmass\n",
    "    (vars()[dfname])['acoll'] = acollin\n",
    "        \n",
    "    \n",
    "    \n",
    "    #fill the bkgsigdata list, categorizing bkg, sgn, data\n",
    "    if channel in backgrounds:\n",
    "        bkgsigdata.append('bkg')\n",
    "    elif channel in signals:\n",
    "        bkgsigdata.append('sgn')\n",
    "    elif channel in data:\n",
    "        bkgsigdata.append('data')\n",
    "        \n",
    "    #fill dataframes lists\n",
    "    df_names.append(dfname)\n",
    "    df_list.append(vars()[dfname])\n",
    "    "
   ]
  },
  {
   "cell_type": "code",
   "execution_count": 12,
   "metadata": {},
   "outputs": [],
   "source": [
    "def midpoints_bins(bins):\n",
    "    binwidth_bins = bins[1]-bins[0]\n",
    "    midpointlist = []\n",
    "    for item in range(0, len(bins)-1):\n",
    "        midpointlist.append(bins[0] + binwidth_bins * (0.5 + item))\n",
    "    return midpointlist\n",
    "\n",
    "def binwidth_bins(bins):\n",
    "    return bins[1]-bins[0]\n"
   ]
  },
  {
   "cell_type": "code",
   "execution_count": 13,
   "metadata": {},
   "outputs": [
    {
     "data": {
      "text/plain": [
       "<Figure size 432x288 with 0 Axes>"
      ]
     },
     "metadata": {},
     "output_type": "display_data"
    }
   ],
   "source": [
    "#######################\n",
    "# log likelihood ploz #\n",
    "#######################\n",
    "   \n",
    "df_list_cut = []\n",
    "\n",
    "for dfname in df_names:\n",
    "    index = df_names.index(dfname)\n",
    "    #tmpdf = (df_list[index])\n",
    "    tmpdf = (df_list[index])[(df_list[index])['mmis'] > 70]\n",
    "    tmpdf = tmpdf[tmpdf['mmis'] < 120]\n",
    "    tmpdf = tmpdf[tmpdf['acthm'] < 0.8]\n",
    "    tmpdf = tmpdf[tmpdf['btag1'] > 0.2]\n",
    "    tmpdf = tmpdf[tmpdf['btag2'] > 0.2]\n",
    "\n",
    "    df_list_cut.append(tmpdf)\n",
    "\n",
    "bins = np.linspace(70,100,31)\n",
    "\n",
    "signal85_mh = []\n",
    "signal90_mh = []\n",
    "signal95_mh = []\n",
    "backgr_mh = [0]*(len(bins)-1)\n",
    "data_mh = []\n",
    "\n",
    "pumpsignal = 1   \n",
    "nevents = [0]*len(df_list)\n",
    "\n",
    "for dfname in df_names:\n",
    "    index = df_names.index(dfname)\n",
    "    \n",
    "    #sum over backgrounds\n",
    "    if bkgsigdata[index] == 'bkg':\n",
    "        if(n_events_real(df_list_cut[index]) != 0):\n",
    "            #calculate scale factor (xs) \n",
    "            scalef = scalefactor(int_lumi, n_events_mc(dfname, df_names, nevents_nom), dfxsec(dfname, df_names))\n",
    "            weights = scalef*np.ones_like((df_list_cut[index])['fmvis'])\n",
    "            bkg,bins_bkg,patches_bkg = plt.hist(((df_list_cut[index])['fmvis']), bins=bins, weights=weights, color='green', ec=\"black\", histtype=\"stepfilled\", label=dfname, alpha=0.4)\n",
    "            backgr_mh = np.add(backgr_mh,bkg)\n",
    "\n",
    "    #data\n",
    "    if bkgsigdata[index] == 'data':\n",
    "        data_histo,bins_data,patches_data = plt.hist(((df_list_cut[index])['fmvis']), bins=bins, color='green', ec=\"black\", histtype=\"stepfilled\", label=dfname, alpha=0.4)\n",
    "\n",
    "#clear all plots\n",
    "plt.clf()\n"
   ]
  },
  {
   "cell_type": "code",
   "execution_count": 14,
   "metadata": {},
   "outputs": [
    {
     "data": {
      "image/png": "[encoded data removed]",
      "text/plain": [
       "<Figure size 432x288 with 1 Axes>"
      ]
     },
     "metadata": {
      "needs_background": "light"
     },
     "output_type": "display_data"
    }
   ],
   "source": [
    "## CONSIDER FOR NOW 85 GEV MH HYPOTHESIS\n",
    "\n",
    "for dfname in df_names:\n",
    "    index = df_names.index(dfname)\n",
    "    #signal with mh=85 GeV\n",
    "    if dfname == \"df_higgs_85\":\n",
    "        scalef = scalefactor(int_lumi, n_events_mc(dfname, df_names, nevents_nom), dfxsec(dfname, df_names))\n",
    "        weights = scalef*np.ones_like((df_list_cut[index])['fmvis'])        #plot signal\n",
    "        sgn_85,bins_sgn_85,patches_sgn_85 = plt.hist(((df_list_cut[index])['fmvis']), bins=bins, weights=weights, color='red', ec=\"black\", histtype=\"stepfilled\", label=dfname.strip(\"df_\"), alpha=0.4)\n",
    "\n",
    "plt.clf()\n",
    "\n",
    "\n",
    "#plot data\n",
    "plt.errorbar(midpoints_bins(bins), data_histo, yerr=np.sqrt(data_histo),fmt='o', label='data')\n",
    "#plot background\n",
    "plt.bar(midpoints_bins(bins), backgr_mh, width=binwidth_bins(bins),color='green', ec=\"black\", label='background', alpha=0.4)\n",
    "#plot signal\n",
    "plt.bar(midpoints_bins(bins), sgn_85, width=binwidth_bins(bins),color='red', ec=\"black\", label='signal (mh=85)', alpha=0.4)\n",
    "plt.legend(loc=\"best\")\n",
    "plt.show()\n"
   ]
  },
  {
   "cell_type": "code",
   "execution_count": 15,
   "metadata": {},
   "outputs": [],
   "source": [
    "#LOG LIKELIHOOD RATIO \n",
    "#-2nlQ = 2*(sum_i s_i - n_i*ln(1+s_i/b_i))\n",
    "\n",
    "def LLR(expBkg, expSig, obs):\n",
    "    result = 0\n",
    "    for index in range(0,len(expBkg)):\n",
    "        if expBkg[index] != 0: #ASK\n",
    "        #if expBkg[index] != 0 and expSig[index]/expBkg[index]>0.05: #ASK\n",
    "            result += 2*(expSig[index] - obs[index]*np.log(max((1 + expSig[index]/expBkg[index]), 0.000001)))\n",
    "    return result\n",
    "\n"
   ]
  },
  {
   "cell_type": "code",
   "execution_count": 16,
   "metadata": {},
   "outputs": [
    {
     "name": "stdout",
     "output_type": "stream",
     "text": [
      "X(Data)= 3.6926514451021144\n",
      "X(Background)= 2.6758654552827768\n",
      "X(Signal 85 GeV +Background)= -3.380235669245498\n"
     ]
    }
   ],
   "source": [
    "#now the different X values\n",
    "print (\"X(Data)=\",LLR(backgr_mh,sgn_85,data_histo))\n",
    "print (\"X(Background)=\",LLR(backgr_mh,sgn_85,backgr_mh))\n",
    "print (\"X(Signal 85 GeV +Background)=\",LLR(backgr_mh,sgn_85,np.add(backgr_mh,sgn_85)))\n"
   ]
  },
  {
   "cell_type": "code",
   "execution_count": 17,
   "metadata": {},
   "outputs": [
    {
     "name": "stdout",
     "output_type": "stream",
     "text": [
      "B-only median estimator: 2.895\n",
      "S+B median estimator: -3.117\n"
     ]
    }
   ],
   "source": [
    "def getTrials(expBkg,expSig, mean):\n",
    "    return LLR(expBkg,expSig, np.random.poisson(mean) )\n",
    "\n",
    "#By using the function above two sets of events can be created for background\n",
    "#only and signal+background:\n",
    "\n",
    "nTrials = 50000\n",
    "bkgSample = []\n",
    "sigPlusBkgSample = []\n",
    "for i in range(0,nTrials):\n",
    "    bkgSample.append(getTrials(backgr_mh,sgn_85,backgr_mh))\n",
    "    sigPlusBkgSample.append(getTrials(backgr_mh,sgn_85,np.add(backgr_mh,sgn_85)))\n",
    "\n",
    "bkg_median = np.median(bkgSample)\n",
    "spb_median = np.median(sigPlusBkgSample)\n",
    "\n",
    "print ('B-only median estimator: %.3f'%bkg_median)\n",
    "print ('S+B median estimator: %.3f'%spb_median)"
   ]
  },
  {
   "cell_type": "code",
   "execution_count": 18,
   "metadata": {},
   "outputs": [
    {
     "data": {
      "image/png": "[encoded data removed]",
      "text/plain": [
       "<Figure size 432x288 with 1 Axes>"
      ]
     },
     "metadata": {
      "needs_background": "light"
     },
     "output_type": "display_data"
    }
   ],
   "source": [
    "plt.axvline(x=LLR(backgr_mh,sgn_85,data_histo), color='black',label='data')\n",
    "sig,bins,patches = plt.hist(sigPlusBkgSample,color='r',bins=30 ,label='S+B',alpha=0.5)\n",
    "bkg,bins,patches = plt.hist(bkgSample,color='b', bins=30, label='B-only',alpha=0.5)\n",
    "plt.xlabel('negative log likelihood')\n",
    "plt.ylabel('A.U.')\n",
    "plt.legend()\n",
    "plt.show()"
   ]
  },
  {
   "cell_type": "code",
   "execution_count": 19,
   "metadata": {},
   "outputs": [],
   "source": []
  },
  {
   "cell_type": "code",
   "execution_count": 41,
   "metadata": {},
   "outputs": [
    {
     "name": "stdout",
     "output_type": "stream",
     "text": [
      "CLb = 0.3885\n",
      "CLsb = 0.0306\n",
      "CLs = 0.0789\n",
      "(1-CLs) = 0.9211\n",
      "\n",
      "\n",
      "\n",
      "CLb -1$\\sigma$ limit =0.139\n",
      "CLb +1$\\sigma$ limit =0.821\n",
      "CLb -2$\\sigma$ limit =0.007\n",
      "CLb +2$\\sigma$ limit =0.957\n",
      "CLsb -1$\\sigma$ limit =0.005\n",
      "CLsb +1$\\sigma$ limit =0.210\n",
      "CLsb -2$\\sigma$ limit =0.000\n",
      "CLsb +2$\\sigma$ limit =0.460\n",
      "CLs -1$\\sigma$ limit =0.036\n",
      "CLs +1$\\sigma$ limit =0.256\n",
      "CLs -2$\\sigma$ limit =0.011\n",
      "CLs +2$\\sigma$ limit =0.481\n",
      "\n",
      "\n",
      "\n",
      "CLb = 0.5000\n",
      "CLsb = 0.0514\n",
      "CLs = 0.1029\n",
      "(1-CLs) = 0.8971\n"
     ]
    }
   ],
   "source": [
    "f = open('CLvalues85.txt', 'w')\n",
    "fracAbove=lambda trials, ref: (trials>ref).sum()/float(len(trials))\n",
    "\n",
    "#function to calculate the 68% and 95% probability intervals centered on the bkg_median\n",
    "def sigma_band_calc(trials, diff, percentage, median):\n",
    "    if fracAbove(trials,median-diff)-fracAbove(trials,median+diff) > percentage+0.0001:\n",
    "        return \"Lower the guess\"\n",
    "    else:\n",
    "        ev_sum = 0\n",
    "        while ev_sum - percentage < 0.0001:\n",
    "            diff = diff + 0.01        \n",
    "            ev_sum = fracAbove(trials,median-diff)-fracAbove(trials,median+diff)\n",
    "\n",
    "        return diff  \n",
    "\n",
    "#calculate  +egative log likelihood ratio for data\n",
    "dataRef=LLR(backgr_mh,sgn_85,data_histo)\n",
    "\n",
    "#compute the CL values\n",
    "CLb=fracAbove(bkgSample,dataRef)\n",
    "CLsb=fracAbove(sigPlusBkgSample,dataRef)\n",
    "CLs=CLsb/CLb\n",
    "\n",
    "print (\"CLb = %.4f\"%CLb)\n",
    "print (\"CLsb = %.4f\"%CLsb)\n",
    "print (\"CLs = %.4f\"%CLs)\n",
    "print (\"(1-CLs) = %.4f\"%(1-CLs))\n",
    "\n",
    "f.write(\"CLb = \" + str(CLb))\n",
    "f.write(\"\\nCLsb = \" + str(CLsb))\n",
    "f.write(\"\\nCLs = \" + str(CLs))\n",
    "f.write(\"\\n1-CLs = \" + str(1-CLs))\n",
    "\n",
    "#calculate and print all the sigma limits\n",
    "highCLb_1sigma=fracAbove(bkgSample,bkg_median-sigma_band_calc(bkgSample,0,0.68,bkg_median))\n",
    "lowCLb_1sigma=fracAbove(bkgSample,bkg_median+sigma_band_calc(bkgSample,0,0.68,bkg_median))\n",
    "highCLb_2sigma=fracAbove(bkgSample,bkg_median-sigma_band_calc(bkgSample,0,0.95,bkg_median))\n",
    "lowCLb_2sigma=fracAbove(bkgSample,bkg_median+sigma_band_calc(bkgSample,0,0.95,bkg_median))\n",
    "highCLsb_1sigma=fracAbove(sigPlusBkgSample,bkg_median-sigma_band_calc(bkgSample,0,0.68,bkg_median))\n",
    "lowCLsb_1sigma=fracAbove(sigPlusBkgSample,bkg_median+sigma_band_calc(bkgSample,0,0.68,bkg_median))\n",
    "highCLsb_2sigma=fracAbove(sigPlusBkgSample,bkg_median-sigma_band_calc(bkgSample,0,0.95,bkg_median))\n",
    "lowCLsb_2sigma=fracAbove(sigPlusBkgSample,bkg_median+sigma_band_calc(bkgSample,0,0.95,bkg_median))\n",
    "lowCLs_1sigma=lowCLsb_1sigma/lowCLb_1sigma\n",
    "highCLs_1sigma=highCLsb_1sigma/highCLb_1sigma\n",
    "lowCLs_2sigma=lowCLsb_2sigma/lowCLb_2sigma\n",
    "highCLs_2sigma=highCLsb_2sigma/highCLb_2sigma\n",
    "\n",
    "print (\"\\n\\n\")\n",
    "print (\"CLb -1$\\sigma$ limit =%.3f\"%lowCLb_1sigma)\n",
    "print (\"CLb +1$\\sigma$ limit =%.3f\"%highCLb_1sigma)\n",
    "print (\"CLb -2$\\sigma$ limit =%.3f\"%lowCLb_2sigma)\n",
    "print (\"CLb +2$\\sigma$ limit =%.3f\"%highCLb_2sigma)\n",
    "print (\"CLsb -1$\\sigma$ limit =%.3f\"%lowCLsb_1sigma)\n",
    "print (\"CLsb +1$\\sigma$ limit =%.3f\"%highCLsb_1sigma)\n",
    "print (\"CLsb -2$\\sigma$ limit =%.3f\"%lowCLsb_2sigma)\n",
    "print (\"CLsb +2$\\sigma$ limit =%.3f\"%highCLsb_2sigma)\n",
    "print (\"CLs -1$\\sigma$ limit =%.3f\"%lowCLs_1sigma)\n",
    "print (\"CLs +1$\\sigma$ limit =%.3f\"%highCLs_1sigma)\n",
    "print (\"CLs -2$\\sigma$ limit =%.3f\"%lowCLs_2sigma)\n",
    "print (\"CLs +2$\\sigma$ limit =%.3f\"%highCLs_2sigma)\n",
    "\n",
    "\n",
    "\n",
    "\n",
    "f.write(\"\\nCLb -1 sigma limit = \" + str(lowCLb_1sigma))\n",
    "f.write(\"\\nCLb +1 sigma limit = \" + str(highCLb_1sigma))\n",
    "f.write(\"\\nCLb -2 sigma limit = \" + str(lowCLb_2sigma))\n",
    "f.write(\"\\nCLb +2 sigma limit = \" + str(highCLb_2sigma))\n",
    "f.write(\"\\nCLsb -1 sigma limit = \" + str(lowCLsb_1sigma))\n",
    "f.write(\"\\nCLsb +1 sigma limit = \" + str(highCLsb_1sigma))\n",
    "f.write(\"\\nCLsb -2 sigma limit = \" + str(lowCLsb_2sigma))\n",
    "f.write(\"\\nCLsb +2 sigma limit = \" + str(highCLsb_2sigma))\n",
    "f.write(\"\\nCLs -1 sigma limit = \" + str(lowCLs_1sigma))\n",
    "f.write(\"\\nCLs +1 sigma limit = \" + str(highCLs_1sigma))\n",
    "f.write(\"\\nCLs -2 sigma limit = \" + str(lowCLs_2sigma))\n",
    "f.write(\"\\nCLs +2 sigma limit = \" + str(highCLs_2sigma))\n",
    "\n",
    "\n",
    "\n",
    "\n",
    "\n",
    "\n",
    "#Now caclulate the same quantitites for the expected background\n",
    "CLb=0.5 #by definition\n",
    "CLsb=fracAbove(sigPlusBkgSample,bkg_median)\n",
    "CLs=CLsb/CLb\n",
    "print (\"\\n\\n\")\n",
    "print (\"CLb = %.4f\"%CLb)\n",
    "print (\"CLsb = %.4f\"%CLsb)\n",
    "print (\"CLs = %.4f\"%CLs)\n",
    "print (\"(1-CLs) = %.4f\"%(1-CLs))\n",
    "\n",
    "f.write((\"\\nCLb = \" + str(CLb)))\n",
    "f.write((\"\\nCLsb = \" + str(CLsb)))\n",
    "f.write((\"\\nCLs = \" + str(CLs)))\n",
    "f.write((\"\\n1-CLs = \" + str((1-CLs))))\n",
    "\n",
    "\n",
    "f.close()"
   ]
  },
  {
   "cell_type": "code",
   "execution_count": null,
   "metadata": {},
   "outputs": [],
   "source": []
  }
 ],
 "metadata": {
  "kernelspec": {
   "display_name": "Python 3",
   "language": "python",
   "name": "python3"
  },
  "language_info": {
   "codemirror_mode": {
    "name": "ipython",
    "version": 3
   },
   "file_extension": ".py",
   "mimetype": "text/x-python",
   "name": "python",
   "nbconvert_exporter": "python",
   "pygments_lexer": "ipython3",
   "version": "3.7.1"
  }
 },
 "nbformat": 4,
 "nbformat_minor": 2
}
